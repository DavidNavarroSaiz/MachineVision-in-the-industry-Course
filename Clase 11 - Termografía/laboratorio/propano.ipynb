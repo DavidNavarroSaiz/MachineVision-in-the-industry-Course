{
 "metadata": {
  "language_info": {
   "codemirror_mode": {
    "name": "ipython",
    "version": 3
   },
   "file_extension": ".py",
   "mimetype": "text/x-python",
   "name": "python",
   "nbconvert_exporter": "python",
   "pygments_lexer": "ipython3",
   "version": "3.8.5"
  },
  "orig_nbformat": 2,
  "kernelspec": {
   "name": "python385jvsc74a57bd0cb620bcb8147bcaa2923e345f9411fac8331ba71c00fa6a921cd39943c17840b",
   "display_name": "Python 3.8.5 64-bit (conda)"
  }
 },
 "nbformat": 4,
 "nbformat_minor": 2,
 "cells": [
  {
   "cell_type": "code",
   "execution_count": 3,
   "metadata": {},
   "outputs": [],
   "source": [
    "import cv2 \n",
    "import numpy as np\n",
    "import matplotlib as plt"
   ]
  },
  {
   "cell_type": "code",
   "execution_count": 6,
   "metadata": {},
   "outputs": [],
   "source": [
    "from PIL import Image\n",
    "import glob\n",
    "image_list = []\n",
    "for filename in glob.glob('propano/*.bmp'): \n",
    "    frame = cv2.imread(filename)\n",
    "    image_list.append(frame)"
   ]
  },
  {
   "cell_type": "code",
   "execution_count": 80,
   "metadata": {
    "tags": []
   },
   "outputs": [],
   "source": [
    "cont = 0\n",
    "backSub = cv2.createBackgroundSubtractorKNN(9999,50,False)\n",
    "kernel = np.ones((2,2),np.uint8)\n",
    "for image in image_list:\n",
    "    cont = cont + 1 \n",
    "    # frame = cv2.imread(image)\n",
    "    fgMask = backSub.apply(image)\n",
    "    ret,thresh1 = cv2.threshold(fgMask,30,255,cv2.THRESH_BINARY)\n",
    "    # closign = cv2.morphologyEx(thresh1, cv2, kernel)\n",
    "    morph_opening = cv2.morphologyEx(thresh1, cv2.MORPH_CLOSE, kernel)\n",
    "    cv2.imshow('frame',morph_opening)\n",
    "    cv2.waitKey(80)\n",
    "    if cont == 42:\n",
    "        cv2.destroyAllWindows()\n",
    "    \n"
   ]
  },
  {
   "cell_type": "code",
   "execution_count": null,
   "metadata": {},
   "outputs": [],
   "source": []
  }
 ]
}