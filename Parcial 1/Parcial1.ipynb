{
 "metadata": {
  "language_info": {
   "codemirror_mode": {
    "name": "ipython",
    "version": 3
   },
   "file_extension": ".py",
   "mimetype": "text/x-python",
   "name": "python",
   "nbconvert_exporter": "python",
   "pygments_lexer": "ipython3",
   "version": "3.9.1"
  },
  "orig_nbformat": 2,
  "kernelspec": {
   "name": "python3",
   "display_name": "Python 3.9.1 64-bit ('PAE': conda)",
   "metadata": {
    "interpreter": {
     "hash": "0d2d3e4578c4b5979f4f0f553462512fb642c1939fc13571bffb80d62547c893"
    }
   }
  }
 },
 "nbformat": 4,
 "nbformat_minor": 2,
 "cells": [
  {
   "source": [
    "# VISION ARTIFICIAL APLICADA A LA INDUSTRIA\n",
    "## PARCIAL 1\n",
    "\n",
    "Sanitarios Ltda produce sanitarios cerámicos y para el proceso de esmaltado es necesario\n",
    "programar un robot con la referencia que se desea esmaltar. Las referencias se muestran a\n",
    "continuación:\n",
    "<p align = \"left\">\n",
    "<img src=\"images/EF.png\">\n",
    "</p>\n",
    "\n",
    "Realice un algoritmo que identifique y clasifique cada uno de los sanitarios basado en las\n",
    "imágenes que se adjuntan. Esto se realiza utilizando las herramientas de extracción de características vistas en el curso. Tener en cuenta que el algoritmo debe ser capaz de generalizar en\n",
    "cuanto a ángulo y posición del objeto. Se entrega una base de datos con imágenes de las 5 referencias, para acceder a ella hacer click [AQUI](https://drive.google.com/drive/u/2/folders/1h_eWOmEgijknQgM1oVZ02ZvXym_Rbzdd).\n",
    "\n",
    "La nota del examen se realizará mediante una prueba de escritorio, en donde cada imagen de la base de datos pasará por el algoritmo de reconocimiento y se contará como buena si es correctamente clasificada. El porcentaje de imágenes correctamente clasificadas será la nota final.\n",
    "\n",
    "## Buena suerte!\n"
   ],
   "cell_type": "markdown",
   "metadata": {}
  },
  {
   "cell_type": "code",
   "execution_count": 7,
   "metadata": {},
   "outputs": [],
   "source": [
    "import matplotlib.pyplot as plt\n",
    "import numpy as np\n",
    "import cv2\n",
    "\n",
    "def plot(imagen,color='white',title=None,cmapa='gray',pic = False,subplot  = (1,1,1)):\n",
    "    if pic == True:\n",
    "        plt.figure(figsize=(15,8))\n",
    "    plt.subplot(subplot[0],subplot[1],subplot[2])\n",
    "    plt.axis('off')\n",
    "    plt.imshow(imagen,cmap = cmapa,vmin = 0, vmax = 255)\n",
    "    plt.title(title,color = color)"
   ]
  },
  {
   "cell_type": "code",
   "execution_count": 158,
   "metadata": {},
   "outputs": [],
   "source": [
    "dir = os.listdir(\"images/Referencia E\")\n",
    "images = []\n",
    "for filename in dir:\n",
    "    b = os.path.join(\"images\\Referencia E\",filename)\n",
    "    img = cv2. imread(b, cv2.IMREAD_GRAYSCALE)\n",
    "    if img is not None:\n",
    "            images.append(img)"
   ]
  },
  {
   "source": [
    "for imagen in images:\n",
    "    imagen=cv2.medianBlur(imagen,11)\n",
    "    _ , image = cv2.threshold(imagen,60,255,cv2.THRESH_BINARY)\n",
    "\n",
    "    ret, labels = cv2.connectedComponents(image)\n",
    "    label_hue = np.uint8(179 * labels / np.max(labels))\n",
    "    blank_ch = 255 * np.ones_like(label_hue)\n",
    "    labeled_img = cv2.merge([label_hue, blank_ch, blank_ch])\n",
    "    labeled_img = cv2.cvtColor(labeled_img, cv2.COLOR_HSV2RGB)\n",
    "    labeled_img[label_hue == 0] = 0\n",
    "\n",
    "    contours, hierarchy = cv2.findContours(image,cv2.RETR_TREE,cv2.CHAIN_APPROX_SIMPLE)  \n",
    "    cont=0\n",
    "\n",
    "    for c in contours:\n",
    "        # get the bounding rect\n",
    "        x, y, w, h = cv2.boundingRect(c)\n",
    "        if(w>800):\n",
    "            cont = c\n",
    "            cv2.rectangle(labeled_img, (x, y), (x+w, y+h), (255, 255, 255), 5)\n",
    "\n",
    "\n",
    "    a = cv2.contourArea(cont)\n",
    "    p = cv2.arcLength(cont,True)\n",
    "    \n",
    "    t = 25000\n",
    "    t2 = 150\n",
    "    print(p)\n",
    "    if int(a) in range(472065-t,472065+t) and int(p) in range(2829-t2,2829+t2):\n",
    "        print('referencia A')\n",
    "        \n",
    "    if int(a) in range(517942-t,517942+t) and int(p) in range(2850-t2,2850+t2):\n",
    "        print('referencia B')\n",
    "        \n",
    "    if int(a) in range(370036-t,370036+t) and int(p) in range(2557-t2,2557+t2):\n",
    "        print('referencia C')\n",
    "        \n",
    "    if int(a) in range(354354-t,354354+t) and int(p) in range(2454-t2,2454+t2):\n",
    "        print('referencia D')\n",
    "        \n",
    "    if int(a) in range(492779-t,492779+t) and int(p) in range(2924-t2,2924+t2):\n",
    "        print('referencia E')\n",
    "\n"
   ],
   "cell_type": "code",
   "metadata": {},
   "execution_count": 159,
   "outputs": [
    {
     "output_type": "stream",
     "name": "stdout",
     "text": [
      "2899.9423353672028\n",
      "referencia A\n",
      "referencia E\n",
      "2900.285482645035\n",
      "referencia A\n",
      "referencia E\n",
      "2901.356552004814\n",
      "referencia A\n",
      "referencia E\n",
      "3005.3809336423874\n",
      "referencia E\n",
      "2943.055035710335\n",
      "referencia A\n",
      "referencia B\n",
      "referencia E\n",
      "2935.599191069603\n",
      "referencia B\n",
      "referencia E\n",
      "2932.528124332428\n",
      "referencia B\n",
      "referencia E\n",
      "2902.5281225442886\n",
      "referencia A\n",
      "referencia E\n",
      "2899.3565534353256\n",
      "referencia A\n",
      "referencia E\n"
     ]
    }
   ]
  },
  {
   "source": [
    "------------------\n",
    "## Referencia A\n",
    "\n",
    "Area: 472065\n",
    "\n",
    "Perimetro: 2829\n",
    "***\n",
    "## Referencia B\n",
    "\n",
    "Area: 517942\n",
    "\n",
    "Perimetro: 2891\n",
    "***\n",
    "## Referencia C\n",
    "\n",
    "Area: 370036\n",
    "\n",
    "Perimetro: 2557\n",
    "\n",
    "***\n",
    "## Referencia D\n",
    "\n",
    "Area: 354354\n",
    "\n",
    "Perimetro: 2454\n",
    "***\n",
    "## Referencia E\n",
    "\n",
    "Area: 492779\n",
    "\n",
    "Perimetro: 2924\n",
    "***"
   ],
   "cell_type": "markdown",
   "metadata": {}
  },
  {
   "cell_type": "code",
   "execution_count": null,
   "metadata": {},
   "outputs": [],
   "source": []
  }
 ]
}