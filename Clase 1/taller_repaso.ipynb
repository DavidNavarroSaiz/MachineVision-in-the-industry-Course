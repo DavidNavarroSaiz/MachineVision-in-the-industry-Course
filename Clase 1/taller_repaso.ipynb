{
 "cells": [
  {
   "source": [
    "# Taller Fundamentos de Python\n",
    "\n",
    "## Python Notebooks\n",
    "Los notebooks de Python proveen un ambiente interactivo para experimentación de código, visualización y publicación de resultados.\n",
    "\n",
    "Las casillas de color gris claro que se encuentran a continuación se denominan celdas y estas pueden contener código (code) o texto formateado (Markdown).\n",
    "\n",
    "* [Flechas arriba / abajo] Mover arriba y abajo de celda a celda.\n",
    "* [Enter] Ingresa una celda para editarla.\n",
    "* [Shift + Enter] Evalúa una celda, muestra el resultado y pasa a la siguiente celda.\n",
    "* [Ctrl + Enter] Evalúa una celda, muestra el resultado y permanece en la celda.\n",
    "* [Alt + Enter] Evalúa una celda, muestra el resultado e inserta una celda abajo.\n",
    "* [Esc] - [D] - [D] Eliminar una celda.\n",
    "* [Esc] - [Z] Deshacer eliminar una celda.\n",
    "* [Esc] - [B] Insertar una celda debajo de la celda actual.\n",
    "* [Esc] - [A] Insertar una celda sobre la celda actual.\n",
    "* [Esc] - [M] Convierte la celda de código en markdown.\n",
    "* [Esc] - [Y] Convierte la celda de Markdown a código.\n",
    "\n",
    "Para más atajos de teclado vaya al menú Ayuda -> Atajos de teclado"
   ],
   "cell_type": "markdown",
   "metadata": {}
  },
  {
   "cell_type": "code",
   "execution_count": 1,
   "metadata": {
    "tags": []
   },
   "outputs": [
    {
     "output_type": "stream",
     "name": "stdout",
     "text": [
      "Hola mundo\n"
     ]
    }
   ],
   "source": [
    "print(\"Hola mundo\")"
   ]
  },
  {
   "source": [
    "## Variables en Python\n",
    "\n",
    "**Variable**: Es donde se guarda determinada información (texto, números, booleanas, etc.)\n",
    "\n",
    "Cada variable tiene un nombre para referirse a ella, Python tiene en cuenta si escribimos en mayúsculas o minúsculas la variable (case sensitive).\n",
    "\n",
    "Para definir variables en Python se realiza de la siguiente manera:\n",
    "\n",
    "```python\n",
    "# Asignando un valor\n",
    "variable = valor\n",
    "# Asignando varios valores\n",
    "variable1, variable2 = valor1, valor2\n",
    "```\n",
    "\n",
    "Python al asignar la variable define cual es el tipo de datos más apropiado.  \n",
    "\n",
    "### Números\n",
    "\n",
    "En números hay dos tipos principales, los números enteros (int) y los reales (float).  El separador decimal es el punto.\n",
    "\n",
    "```python\n",
    "entero = 2\n",
    "real = 2.5\n",
    "```\n",
    "\n",
    "### Texto\n",
    "\n",
    "Las variables que almacenan texto se denominan strings (str).  Se deben de poner entre commillas sencillas o dobles, si el texto es multilinea con triple comilla.\n",
    "\n",
    "```python\n",
    "cadena = \"Hola\"\n",
    "cadena = 'Hola'\n",
    "multilinea = \"\"\" Hola\n",
    "                Mundo \"\"\"\n",
    "multilinea = ''' Hola\n",
    "                Mundo '''             \n",
    "```\n",
    "\n",
    "### Listas\n",
    "\n",
    "Son conjuntos ordenados de elementos (números, texto, listas, etc). Se delimitan por corchetes (`[]`) y los elementos se separan por comas. Las listas son dinamicas, es decir que son mutables.\n",
    "\n",
    "```python\n",
    "listaNumeros = [1,2,3]\n",
    "listaCadenas = ['a','b','c']\n",
    "listaListas = [[1,2],[3,4],[5,6]]\n",
    "listaMixtas = [1,'Grupo',[1,2,3,4]]\n",
    "listaVacia = []\n",
    "```\n",
    "\n",
    "### Tuplas\n",
    "\n",
    "Es un conjunto ordenado e inmutable de elementos del mismo o diferente tipo. Las tuplas se representan escribiendo los elementos entre paréntesis (`()`) y separados por comas. Las tuplas son estaticas, son inmutables, una vez creada no puede ser modificada.\n",
    "\n",
    "```python\n",
    "tuplaNumeros = (1,2,3)\n",
    "tuplaCadenas = ('a','b','c')\n",
    "tuplaListas = ([1,2],[3,4],[5,6])\n",
    "tuplaMixtas = (1,'Grupo',[1,2,3,4])\n",
    "```\n",
    "\n",
    "### Diccionarios\n",
    "\n",
    "Permite almacenar cualquier tipo de valor como enteros, cadenas, listas, etc.  Los diccionarios permiten además identificar cada elemento por una clave (key)\n",
    "\n",
    "```python\n",
    "dictNumeros = {'k1':1,'k2':2}\n",
    "dictCadenas = {'k1':'a','k2':'b','k3':'c'}\n",
    "dictListas = {'k1':[1,2],'k2':[3,4],'k3':[5,6]}\n",
    "dictMixto = {'k1':1,'k2':'Grupo','k3':[1,2,3,4]}\n",
    "```\n",
    "\n",
    "### Booleano\n",
    "\n",
    "Una variable booleana es una variable que sólo puede tomar dos posibles valores: Verdadero (True) o Falso (False).\n",
    "\n",
    "```python\n",
    "verdadero = True\n",
    "falso = False\n",
    "```\n",
    "\n",
    "### None\n",
    "\n",
    "Es el tipo de dato que en otros lenguajes se conoce como Nulo (NAN).  En Python es NoneType.\n",
    "\n",
    "```python\n",
    "nulo = None\n",
    "```\n",
    "\n",
    "### Imprimir variables\n",
    "\n",
    "El comando `print(variable)` imprime el valor de la variable.\n",
    "\n",
    "\n",
    "### Comentarios\n",
    "\n",
    "Los comentarios en linea se define con `#`"
   ],
   "cell_type": "markdown",
   "metadata": {}
  },
  {
   "source": [
    "## Operadores Aritméticos\n",
    "\n",
    "| Symbol | Task Performed |\n",
    "|----|---|\n",
    "| +  | Addition |\n",
    "| -  | Subtraction |\n",
    "| /  | division |\n",
    "| %  | mod |\n",
    "| *  | multiplication |\n",
    "| //  | floor division |\n",
    "| **  | exponentiation |\n",
    "| ~   | negation |\n",
    "\n",
    "Python dependiendo del tipo de dato realiza las operaciones."
   ],
   "cell_type": "markdown",
   "metadata": {}
  },
  {
   "cell_type": "code",
   "execution_count": 106,
   "metadata": {
    "tags": []
   },
   "outputs": [
    {
     "output_type": "stream",
     "name": "stdout",
     "text": [
      "suma:  12\nfuncion:  32\noperacion exponencial:  78125\noperacion division: 0.7142857142857143\noperacion multiplicacion:  35\noperacion modulo:  5\nValor absoluto:  45\n"
     ]
    }
   ],
   "source": [
    "x = 5\n",
    "y = 7\n",
    "\n",
    "print('suma: ',x+y)\n",
    "z = x*5+y\n",
    "print('funcion: ',z)\n",
    "\n",
    "print('operacion exponencial: ',x**y)\n",
    "print('operacion division:',x/y)\n",
    "\n",
    "print('operacion multiplicacion: ',x*y)\n",
    "\n",
    "print('operacion modulo: ',x%y)\n",
    "\n",
    "# Valor absoluto de un numero\n",
    "print('Valor absoluto: ', abs(-45))"
   ]
  },
  {
   "source": [
    "## Variables en python:"
   ],
   "cell_type": "markdown",
   "metadata": {}
  },
  {
   "cell_type": "code",
   "execution_count": 4,
   "metadata": {},
   "outputs": [],
   "source": [
    "mensaje = 'Estamos aprendiendo Python'\n",
    "n = 2021\n",
    "pi = 3.1415926535897931\n"
   ]
  },
  {
   "source": [
    "Este ejemplo hace tres asignaciones. La primera asigna una cadena a una variable nueva llamada mensaje; la segunda asigna el entero 2021 a n; la tercera asigna el valor (aproximado) de π a pi. Para mostrar el valor de una variable, se puede usar la sentencia print:"
   ],
   "cell_type": "markdown",
   "metadata": {}
  },
  {
   "cell_type": "code",
   "execution_count": 13,
   "metadata": {},
   "outputs": [
    {
     "output_type": "stream",
     "name": "stdout",
     "text": [
      "esto es un string:  Estamos aprendiendo Python\nes un entero:  2021\nes un float:  3.141592653589793\n"
     ]
    }
   ],
   "source": [
    "print('esto es un string: ',mensaje)\n",
    "print('es un entero: ',n)\n",
    "print('es un float: ',pi)\n",
    "\n"
   ]
  },
  {
   "source": [
    "## operaciones con cadenas"
   ],
   "cell_type": "markdown",
   "metadata": {}
  },
  {
   "cell_type": "code",
   "execution_count": 6,
   "metadata": {},
   "outputs": [
    {
     "output_type": "stream",
     "name": "stdout",
     "text": [
      "bit bit bit \n"
     ]
    }
   ],
   "source": [
    "x = \"bit \"\n",
    "y = 3\n",
    "print(x*y)"
   ]
  },
  {
   "cell_type": "code",
   "execution_count": 7,
   "metadata": {},
   "outputs": [
    {
     "output_type": "stream",
     "name": "stdout",
     "text": [
      "Bogota es una ciudad de Colombia\n"
     ]
    }
   ],
   "source": [
    "X = \"Bogota\"\n",
    "Y = \" es una ciudad de Colombia\"\n",
    "\n",
    "print(X+Y)"
   ]
  },
  {
   "cell_type": "code",
   "execution_count": 14,
   "metadata": {},
   "outputs": [
    {
     "output_type": "stream",
     "name": "stdout",
     "text": [
      "[1, 2, 3]\n['a', 'b', 'c']\n[[1, 2], [3, 4], [5, 6]]\n[1, 'Grupo', [1, 2, 3, 4]]\n[]\n"
     ]
    }
   ],
   "source": [
    "# Declarando una lista\n",
    "listaNumeros = [1,2,3]\n",
    "print(listaNumeros)\n",
    "listaCadenas = ['a','b','c']\n",
    "print(listaCadenas)\n",
    "listaListas = [[1,2],[3,4],[5,6]]\n",
    "print(listaListas)\n",
    "listaMixtas = [1,'Grupo',[1,2,3,4]]\n",
    "print(listaMixtas)\n",
    "listaVacia = []\n",
    "print(listaVacia)"
   ]
  },
  {
   "cell_type": "code",
   "execution_count": 15,
   "metadata": {},
   "outputs": [
    {
     "output_type": "stream",
     "name": "stdout",
     "text": [
      "(1, 2, 3)\n('a', 'b', 'c')\n([1, 2], [3, 4], [5, 6])\n(1, 'Grupo', [1, 2, 3, 4])\n"
     ]
    }
   ],
   "source": [
    "# Declarando una Tupla\n",
    "tuplaNumeros = (1,2,3)\n",
    "print(tuplaNumeros)\n",
    "tuplaCadenas = ('a','b','c')\n",
    "print(tuplaCadenas)\n",
    "tuplaListas = ([1,2],[3,4],[5,6])\n",
    "print(tuplaListas)\n",
    "tuplaMixtas = (1,'Grupo',[1,2,3,4])\n",
    "print(tuplaMixtas)"
   ]
  },
  {
   "cell_type": "code",
   "execution_count": 16,
   "metadata": {},
   "outputs": [
    {
     "output_type": "stream",
     "name": "stdout",
     "text": [
      "{'k1': 1, 'k2': 2}\n{'k1': 'a', 'k2': 'b', 'k3': 'c'}\n{'k1': [1, 2], 'k2': [3, 4], 'k3': [5, 6]}\n{'k1': 1, 'k2': 'Grupo', 'k3': [1, 2, 3, 4]}\n"
     ]
    }
   ],
   "source": [
    "# Declarando Diccionarios\n",
    "dictNumeros = {'k1':1,'k2':2}\n",
    "print(dictNumeros)\n",
    "dictCadenas = {'k1':'a','k2':'b','k3':'c'}\n",
    "print(dictCadenas)\n",
    "dictListas = {'k1':[1,2],'k2':[3,4],'k3':[5,6]}\n",
    "print(dictListas)\n",
    "dictMixto = {'k1':1,'k2':'Grupo','k3':[1,2,3,4]}\n",
    "print(dictMixto)"
   ]
  },
  {
   "cell_type": "code",
   "execution_count": null,
   "metadata": {},
   "outputs": [],
   "source": [
    "# Declarando Booleanos\n",
    "verdadero = True\n",
    "falso = False\n",
    "\n",
    "# Declarando Nulos\n",
    "nulo = None"
   ]
  },
  {
   "source": [
    "Los programadores generalmente eligen nombres para sus variables que tengan sentido y documentan para qué se usa esa variable. Los nombres de las variables pueden ser arbitrariamente largos. Pueden contener tanto letras como números, pero no pueden comenzar con un número. Se pueden usar letras mayúsculas, pero es buena idea comenzar los nombres de las variables con una letras minúscula."
   ],
   "cell_type": "markdown",
   "metadata": {}
  },
  {
   "cell_type": "code",
   "execution_count": 18,
   "metadata": {},
   "outputs": [
    {
     "output_type": "stream",
     "name": "stdout",
     "text": [
      "var1 = 9\nvar2 = Sara\nvar3 = [13, 17, 23]\nvar1 = Sara\nvar2 = 9\n"
     ]
    }
   ],
   "source": [
    "# Asignaciones Múltiples\n",
    "var1, var2, var3 =  ( 5 + 4),  \"Sara\", [13, 17, 23]\n",
    "print( \"var1 =\", var1 )\n",
    "print( \"var2 =\", var2 )\n",
    "print( \"var3 =\", var3 )\n",
    "\n",
    "# Cambiar valores entre variables\n",
    "var1, var2 = var2, var1 \n",
    "\n",
    "print( \"var1 =\", var1 )\n",
    "print( \"var2 =\", var2 )"
   ]
  },
  {
   "source": [
    "## Tipo de Datos\n",
    "\n",
    "Para conocer el tipo de dato de una variable se usa el metodo type\n",
    "\n",
    "type(x)"
   ],
   "cell_type": "markdown",
   "metadata": {}
  },
  {
   "cell_type": "code",
   "execution_count": 19,
   "metadata": {},
   "outputs": [
    {
     "output_type": "stream",
     "name": "stdout",
     "text": [
      "10\n"
     ]
    },
    {
     "output_type": "execute_result",
     "data": {
      "text/plain": [
       "int"
      ]
     },
     "metadata": {},
     "execution_count": 19
    }
   ],
   "source": [
    "print(x)\n",
    "type(x)"
   ]
  },
  {
   "source": [
    "## Operadores Relacionales\n",
    "\n",
    "| Symbol | Task Performed |\n",
    "|----|---|\n",
    "| == | verdadero, si los valores son iguales |\n",
    "| is | verdadero, si son identicos, i.e. el **mismo** objeto  |\n",
    "| !=  | Verdadero, si no son iguales |\n",
    "| < | Menos que |\n",
    "| > | Mas que|\n",
    "| <=  | Menor o igual que |\n",
    "| >=  | Mayor o igual que |\n",
    "| in  | Evalua pertenencia a una coleccion (list, set, dictionary) |"
   ],
   "cell_type": "markdown",
   "metadata": {}
  },
  {
   "cell_type": "code",
   "execution_count": 29,
   "metadata": {},
   "outputs": [
    {
     "output_type": "stream",
     "name": "stdout",
     "text": [
      "False\nTrue\nTrue\n[1, 2, 3]\nTrue\nFalse\nTrue\n"
     ]
    }
   ],
   "source": [
    "print(x == 2)\n",
    "print(x != 2)\n",
    "print(x > 1)\n",
    "print(listaNumeros)\n",
    "print(listaNumeros == [1,2,3])\n",
    "print(listaNumeros is [1,2,3])\n",
    "objecto = listaNumeros\n",
    "listaNumeros is objecto\n",
    "nulo = None\n",
    "print(nulo is None)"
   ]
  },
  {
   "source": [
    "## Conversiones entre tipos\n",
    "\n",
    "Python cuenta con la conversión de tipos de datos (*cast* o *casting*) que especifica explicitamente el tipo de dato.\n",
    "\n",
    "```python\n",
    "int(variable)\n",
    "float(variable)\n",
    "str(variable)\n",
    "bool(variable)\n",
    "list(variable)\n",
    "tuple(variable)\n",
    "dict(variable)\n",
    "```"
   ],
   "cell_type": "markdown",
   "metadata": {}
  },
  {
   "cell_type": "code",
   "execution_count": 32,
   "metadata": {},
   "outputs": [
    {
     "output_type": "stream",
     "name": "stdout",
     "text": [
      "['a', 'b', 'c']\n<class 'list'>\n('a', 'b', 'c')\n<class 'tuple'>\n123\n<class 'str'>\n123\n<class 'int'>\n"
     ]
    }
   ],
   "source": [
    "# Convertir Lista a tupla\n",
    "print(listaCadenas)\n",
    "print(type(listaCadenas))\n",
    "print(tuple(listaCadenas))\n",
    "print(type(tuple(listaCadenas)))\n",
    "\n",
    "\n",
    "# Convertir de cadena a entero\n",
    "print('123')\n",
    "print(type('123'))\n",
    "print(int('123'))\n",
    "print(type(int('123')))"
   ]
  },
  {
   "source": [
    "\n",
    "\n",
    "Funciones Integradas (Built-in Functions)\n",
    "Funciones: Una función es un bloque de código con un nombre asociado, que recibe  \n",
    "0\n",
    "  o más argumentos como entrada, sigue una serie de instrucciones y devuelve un valor o realiza una tarea.\n",
    "\n",
    "Python dispone de una serie de funciones intregradas al lenguaje( built-in)\n",
    "\n",
    "Un ejemplo de estas funciones son las vistas en los anteriores puntos como las de convertir tipos de datos y la de imprimir."
   ],
   "cell_type": "markdown",
   "metadata": {}
  },
  {
   "cell_type": "code",
   "execution_count": 108,
   "metadata": {},
   "outputs": [
    {
     "output_type": "stream",
     "name": "stdout",
     "text": [
      "4\n"
     ]
    }
   ],
   "source": [
    "# Ingresar valor por teclado\n",
    "entrada = int(input(\"Ingrese un número entero: \"))\n",
    "print(entrada**2)"
   ]
  },
  {
   "source": [
    "### Ejercicio 1:\n",
    "\n",
    "\n",
    "Ejecute la siguiente  celda e infiera lo que hace la función round incorporada con uno o dos argumentos."
   ],
   "cell_type": "markdown",
   "metadata": {}
  },
  {
   "cell_type": "code",
   "execution_count": 38,
   "metadata": {},
   "outputs": [
    {
     "output_type": "stream",
     "name": "stdout",
     "text": [
      "-5\n-3.1415\n-3.1415163\n"
     ]
    }
   ],
   "source": [
    "print(round( -4.78 ))\n",
    "print(round( -3.141516297, 4 ))\n",
    "print(round( -3.141516297, 7 ))"
   ]
  },
  {
   "source": [
    "### Ejercicio 2:\n",
    "\n",
    "\n",
    "Desde la pagina de las funciones integradas [built-in](https://docs.python.org/3/library/functions.html), consulte la forma de usar la función `min()` y `max()`.\n",
    "\n",
    "- Cree una lista con los valores 42, 17 y 68.\n",
    "- Usando la función `min()`, imprima el valor minimo.\n",
    "- Usando la función `max()`, imprima el valor maximo.\n",
    "- Validar si hay una función que me devuelva la suma?"
   ],
   "cell_type": "markdown",
   "metadata": {}
  },
  {
   "source": [
    "### Indexación de Cadenas\n",
    "\n",
    "Las cadenas de Python son cadenas de caracteres, y cada carácter reside en un índice a partir de $0$ (para el primer carácter) y terminando en longitud de cadena $-1$ (para el último carácter).\n",
    "\n",
    "|G|r|u|p|o|\n",
    "|-|-|-|-|-|\n",
    "|0|1|2|3|4|\n",
    "|-|-|-|-|-|\n",
    "|-5|-4|-3|-2|-1|\n"
   ],
   "cell_type": "markdown",
   "metadata": {}
  },
  {
   "cell_type": "code",
   "execution_count": 40,
   "metadata": {},
   "outputs": [
    {
     "output_type": "stream",
     "name": "stdout",
     "text": [
      "Primer caracter:  l\nUltimo caracter:  m\n"
     ]
    }
   ],
   "source": [
    "cadena = \"la altura de juan es 4m\"\n",
    "print(\"Primer caracter: \",cadena[0])\n",
    "print(\"Ultimo caracter: \",cadena[-1])"
   ]
  },
  {
   "source": [
    "Si se desea cambiar el valor de un caracter de una cadena se debe de usar las funciones propias del objeto string."
   ],
   "cell_type": "markdown",
   "metadata": {}
  },
  {
   "cell_type": "code",
   "execution_count": 41,
   "metadata": {},
   "outputs": [
    {
     "output_type": "execute_result",
     "data": {
      "text/plain": [
       "'la altora de joan es 4m'"
      ]
     },
     "metadata": {},
     "execution_count": 41
    }
   ],
   "source": [
    "str.replace(cadena,'u','o')\n"
   ]
  },
  {
   "source": [
    "Si se desea conocer el tamaño de la cadena de caracteres se usa el metodo `len(cadena)`."
   ],
   "cell_type": "markdown",
   "metadata": {}
  },
  {
   "cell_type": "code",
   "execution_count": 43,
   "metadata": {},
   "outputs": [
    {
     "output_type": "execute_result",
     "data": {
      "text/plain": [
       "23"
      ]
     },
     "metadata": {},
     "execution_count": 43
    }
   ],
   "source": [
    "len(cadena)"
   ]
  },
  {
   "source": [
    "Si se desea conocer si un caracter esta en una cadena de caracteres se usa el operador in."
   ],
   "cell_type": "markdown",
   "metadata": {}
  },
  {
   "cell_type": "code",
   "execution_count": 44,
   "metadata": {},
   "outputs": [
    {
     "output_type": "execute_result",
     "data": {
      "text/plain": [
       "True"
      ]
     },
     "metadata": {},
     "execution_count": 44
    }
   ],
   "source": [
    "'a' in cadena"
   ]
  },
  {
   "source": [
    "### Cortar (Slicing) Cadenas\n",
    "\n",
    "**Slicing** en Python es un camino poderoso para extraer sub-partes de una cadena, listas y tuplas.\n",
    "\n",
    "```\n",
    "str[start:end]\n",
    "````\n",
    "**start**: sub-cadena inicia desde este elemento\n",
    "\n",
    "**end**: fin sub-cadena, excluye el elemento en este index.\n",
    "\n",
    "|G|r|u|p|o|\n",
    "|-|-|-|-|-|\n",
    "|0|1|2|3|4|\n",
    "\n",
    "```python\n",
    "cadena = \"Grupo\"\n",
    "print(cadena[0:2])\n",
    "```\n",
    "|G|r|\n",
    "|-|-|\n",
    "|0|1|\n"
   ],
   "cell_type": "markdown",
   "metadata": {}
  },
  {
   "cell_type": "code",
   "execution_count": 47,
   "metadata": {},
   "outputs": [
    {
     "output_type": "stream",
     "name": "stdout",
     "text": [
      "Gr\nGrup\n"
     ]
    }
   ],
   "source": [
    "cadena = \"Grupo\"\n",
    "print(cadena[0:2])\n",
    "\n",
    "\n",
    "# Sub-cadena desde la posicion inicial, 4 caracteres.\n",
    "print(cadena[0:4])"
   ]
  },
  {
   "source": [
    "## Manejo de Listas\n",
    "\n",
    "Una lista es un arreglo de elementos donde podemos ingresar cualquier tipo de dato, para acceder a estos datos lo podemos hacer mediante un índice."
   ],
   "cell_type": "markdown",
   "metadata": {}
  },
  {
   "cell_type": "code",
   "execution_count": 49,
   "metadata": {},
   "outputs": [],
   "source": [
    "lista = [1,2.5,'Grupo',[1,2],10,'Grupo']"
   ]
  },
  {
   "cell_type": "code",
   "execution_count": 50,
   "metadata": {},
   "outputs": [
    {
     "output_type": "stream",
     "name": "stdout",
     "text": [
      "Primer elemento de la lista:  1\nUltimo elemento de la lista:  Grupo\n"
     ]
    }
   ],
   "source": [
    "print(\"Primer elemento de la lista: \",lista[0])\n",
    "print(\"Ultimo elemento de la lista: \",lista[-1])"
   ]
  },
  {
   "cell_type": "code",
   "execution_count": 51,
   "metadata": {},
   "outputs": [
    {
     "output_type": "stream",
     "name": "stdout",
     "text": [
      "2\n"
     ]
    }
   ],
   "source": [
    "print(lista[3][1])"
   ]
  },
  {
   "cell_type": "code",
   "execution_count": 52,
   "metadata": {},
   "outputs": [
    {
     "output_type": "stream",
     "name": "stdout",
     "text": [
      "[1, 2.5, 'Grupo', [1, 2], 10, 'Grupo', 'Nuevo']\n"
     ]
    }
   ],
   "source": [
    "# Adicionar un elemento a la lista\n",
    "lista.append('Nuevo')\n",
    "print(lista)"
   ]
  },
  {
   "cell_type": "code",
   "execution_count": 53,
   "metadata": {},
   "outputs": [
    {
     "output_type": "stream",
     "name": "stdout",
     "text": [
      "2\n"
     ]
    }
   ],
   "source": [
    "# Devuelve el número de indice del elemento que le pasamor por parámetro\n",
    "print(lista.index('Grupo'))"
   ]
  },
  {
   "cell_type": "code",
   "execution_count": 54,
   "metadata": {},
   "outputs": [
    {
     "output_type": "stream",
     "name": "stdout",
     "text": [
      "Grupo\n[1, 2.5, [1, 2], 10, 'Grupo', 'Nuevo']\n"
     ]
    }
   ],
   "source": [
    "# Devuelve el elemento en la posicion dada de la lista y lo elimina\n",
    "print(lista.pop(2))\n",
    "print(lista)\n",
    "\n"
   ]
  },
  {
   "cell_type": "code",
   "execution_count": 55,
   "metadata": {},
   "outputs": [
    {
     "output_type": "stream",
     "name": "stdout",
     "text": [
      "1\n"
     ]
    }
   ],
   "source": [
    "# Devuelve cuantas veces un elemento de una lista se repite\n",
    "print(lista.count('Grupo'))"
   ]
  },
  {
   "cell_type": "code",
   "execution_count": 56,
   "metadata": {},
   "outputs": [
    {
     "output_type": "stream",
     "name": "stdout",
     "text": [
      "['Nuevo', 'Grupo', 10, [1, 2], 2.5, 1]\n"
     ]
    }
   ],
   "source": [
    "# Invertir los elementos de una lista\n",
    "lista.reverse()\n",
    "print(lista)"
   ]
  },
  {
   "source": [
    "## Manejo de Diccionarios\n",
    "\n",
    "Al contrario de las listas los diccionarios no tienen orden, un diccionario es una palabra que tiene asociado algo.\n",
    "\n",
    "Se crean poniendo sus elementos entre llaves (`{\"a\":\"Alicante\",\"b\":\"Barcelona\"}`). Se denominan keys a las **palabras** y values a las **definiciones**. Lógicamente no puede haber dos keys iguales, pero si dos values iguales.\n"
   ],
   "cell_type": "markdown",
   "metadata": {}
  },
  {
   "cell_type": "code",
   "execution_count": 57,
   "metadata": {},
   "outputs": [
    {
     "output_type": "stream",
     "name": "stdout",
     "text": [
      "{'Piloto 1': 'Fernando Alonso', 'Piloto 2': 'Kimi Raikkonen', 'Piloto 3': 'Felipe Massa'}\n"
     ]
    }
   ],
   "source": [
    "diccionario = {'Piloto 1':'Fernando Alonso', 'Piloto 2':'Kimi Raikkonen', 'Piloto 3':'Felipe Massa'}\n",
    "print(diccionario)"
   ]
  },
  {
   "cell_type": "code",
   "execution_count": 58,
   "metadata": {},
   "outputs": [
    {
     "output_type": "stream",
     "name": "stdout",
     "text": [
      "Fernando Alonso\nFernando Alonso\n"
     ]
    }
   ],
   "source": [
    "# Devuelve el valor que corresponde con la key introducida.\n",
    "print(diccionario.get('Piloto 1'))\n",
    "print(diccionario['Piloto 1'])"
   ]
  },
  {
   "cell_type": "code",
   "execution_count": 59,
   "metadata": {},
   "outputs": [
    {
     "output_type": "stream",
     "name": "stdout",
     "text": [
      "Fernando Alonso\n{'Piloto 2': 'Kimi Raikkonen', 'Piloto 3': 'Felipe Massa'}\n"
     ]
    }
   ],
   "source": [
    "# Devuelve el valor que corresponde con la key introducida, y luego borra la key y el valor.\n",
    "print(diccionario.pop('Piloto 1'))\n",
    "print(diccionario)"
   ]
  },
  {
   "cell_type": "code",
   "execution_count": 60,
   "metadata": {},
   "outputs": [
    {
     "output_type": "stream",
     "name": "stdout",
     "text": [
      "{'Piloto 2': 'Sebastian Vettel', 'Piloto 3': 'Felipe Massa', 'Piloto 4': 'Lewis Hamilton'}\n"
     ]
    }
   ],
   "source": [
    "# Actualiza el valor de una determinada key o lo crea si no existe.\n",
    "diccionario.update({'Piloto 4':'Lewis Hamilton'})\n",
    "diccionario.update({'Piloto 2':'Sebastian Vettel'})\n",
    "print(diccionario)"
   ]
  },
  {
   "cell_type": "code",
   "execution_count": 61,
   "metadata": {},
   "outputs": [
    {
     "output_type": "stream",
     "name": "stdout",
     "text": [
      "{'Piloto 2': 'Sebastian Vettel', 'Piloto 3': 'Felipe Massa', 'Piloto 4': 'Lewis Hamilton', 'Piloto 5': 'Juan Perez'}\n"
     ]
    }
   ],
   "source": [
    "diccionario['Piloto 5'] = 'Juan Perez'\n",
    "print(diccionario)"
   ]
  },
  {
   "cell_type": "code",
   "execution_count": 62,
   "metadata": {},
   "outputs": [
    {
     "output_type": "stream",
     "name": "stdout",
     "text": [
      "True\nFalse\nFalse\n"
     ]
    }
   ],
   "source": [
    "# \"key\" in diccionario: devuelve verdadero (True) o falso (False) si la key existe en el diccionario.\n",
    "print (\"Piloto 2\" in diccionario)\n",
    "print (\"piloto 1\" in diccionario)\n",
    "print (\"Sebastian Vettel\" in diccionario)"
   ]
  },
  {
   "cell_type": "code",
   "execution_count": 63,
   "metadata": {},
   "outputs": [
    {
     "output_type": "stream",
     "name": "stdout",
     "text": [
      "True\n"
     ]
    }
   ],
   "source": [
    "# \"definición\" in diccionario.values(): devuelve verdadero (True) o falso (False) si la definición existe en el diccionario.\n",
    "print (\"Sebastian Vettel\" in diccionario.values())"
   ]
  },
  {
   "source": [
    "## Manejo de Tuplas\n",
    "\n",
    "Las tuplas son inmutables, una vez creada, no se puede cambiar ni su contenido ni su tamaño."
   ],
   "cell_type": "markdown",
   "metadata": {}
  },
  {
   "cell_type": "code",
   "execution_count": 65,
   "metadata": {},
   "outputs": [
    {
     "output_type": "stream",
     "name": "stdout",
     "text": [
      "(1, 2, 3, 4, 5, 6, 7, 8, 9, 10)\n"
     ]
    }
   ],
   "source": [
    "tuple1 = (1,2,3,4,5)\n",
    "tuple2 = (6,7,8,9,10)\n",
    "\n",
    "# Concatenar tuplas\n",
    "tuple3 = tuple1 + tuple2\n",
    "print(tuple3)"
   ]
  },
  {
   "cell_type": "code",
   "execution_count": 66,
   "metadata": {},
   "outputs": [
    {
     "output_type": "stream",
     "name": "stdout",
     "text": [
      "(1, 2, 3, 4, 5, 1, 2, 3, 4, 5, 1, 2, 3, 4, 5)\n"
     ]
    }
   ],
   "source": [
    "# Repetir tuplas\n",
    "print(tuple1 * 3)"
   ]
  },
  {
   "cell_type": "code",
   "execution_count": 67,
   "metadata": {},
   "outputs": [
    {
     "output_type": "stream",
     "name": "stdout",
     "text": [
      "False\nTrue\n"
     ]
    }
   ],
   "source": [
    "# Validar si un elemento esta en la tupla\n",
    "print(7 in tuple1)\n",
    "print(7 in tuple2)"
   ]
  },
  {
   "cell_type": "code",
   "execution_count": 68,
   "metadata": {},
   "outputs": [
    {
     "output_type": "stream",
     "name": "stdout",
     "text": [
      "4\n"
     ]
    }
   ],
   "source": [
    "# Devuelve cuantas veces esta un elemento repetido\n",
    "tuple4 = (65,67,5,67,34,76,67,231,98,67)\n",
    "print(tuple4.count(67))"
   ]
  },
  {
   "cell_type": "code",
   "execution_count": 69,
   "metadata": {},
   "outputs": [
    {
     "output_type": "stream",
     "name": "stdout",
     "text": [
      "34\n67\n(65, 67, 5, 67)\n(76, 67, 231, 98, 67)\n(34, 76, 67, 231)\n(67, 34, 76)\n"
     ]
    }
   ],
   "source": [
    "# Indexación\n",
    "print(tuple4[4])\n",
    "print(tuple4[-4])\n",
    "print(tuple4[:4])\n",
    "print(tuple4[5:])\n",
    "print(tuple4[-6:-2])\n",
    "print(tuple4[3:6])"
   ]
  },
  {
   "source": [
    "## Funciones de Usuario\n",
    "\n",
    "Hasta ahora, sólo hemos estado usando las funciones que vienen incorporadas en\n",
    "Python, pero es posible añadir también funciones nuevas. Una definición de función especifica el nombre de una función nueva y la secuencia de sentencias que se\n",
    "ejecutan cuando esa función es llamada. Una vez definida una función, se puede\n",
    "reutilizar una y otra vez a lo largo de todo el programa.\n",
    "\n",
    "\n",
    "En Python, la definición de funciones se realiza mediante la instruccion `def`.  La definición de la función finaliza con dos puntos (`:`) y el algoritmo que la compone, irá con tabulación."
   ],
   "cell_type": "markdown",
   "metadata": {}
  },
  {
   "cell_type": "code",
   "execution_count": 71,
   "metadata": {},
   "outputs": [],
   "source": [
    "def suma_numeros(x,y):\n",
    "    z = x+y\n",
    "    return z"
   ]
  },
  {
   "cell_type": "code",
   "execution_count": 72,
   "metadata": {},
   "outputs": [
    {
     "output_type": "execute_result",
     "data": {
      "text/plain": [
       "95"
      ]
     },
     "metadata": {},
     "execution_count": 72
    }
   ],
   "source": [
    "suma_numeros(10,85)"
   ]
  },
  {
   "source": [
    "### Ejercicio 3\n",
    "\n",
    "Escriba una función que calcule el area de un triangulo:\n",
    "\n",
    "$Area = (Base*Altura)/2 $\n",
    "\n",
    "$Base$ Es un numero entero o real.\n",
    "$Altura$ Es un numero entero o real.\n",
    "\n",
    "La función debe de retornar el valor del $Area$."
   ],
   "cell_type": "markdown",
   "metadata": {}
  },
  {
   "source": [
    "# Estructuras de control\n",
    "\n",
    "\n",
    "## Condicional IF - ELIF - ELSE"
   ],
   "cell_type": "markdown",
   "metadata": {}
  },
  {
   "cell_type": "code",
   "execution_count": 33,
   "metadata": {},
   "outputs": [
    {
     "output_type": "stream",
     "name": "stdout",
     "text": [
      "Aprendamos a utilizar condicionales\nx es par\n"
     ]
    }
   ],
   "source": [
    "print(\"Aprendamos a utilizar condicionales\")\n",
    "x = 10\n",
    "if x%2 == 0 :\n",
    "    print('x es par')\n",
    "else :\n",
    "    print('x es impar')\n"
   ]
  },
  {
   "cell_type": "code",
   "execution_count": 34,
   "metadata": {},
   "outputs": [
    {
     "output_type": "stream",
     "name": "stdout",
     "text": [
      "x es mayor que y\n"
     ]
    }
   ],
   "source": [
    "x= 10\n",
    "y =  6\n",
    "\n",
    "if x < y:\n",
    "    print('x es menor que y')\n",
    "elif x > y:\n",
    "    print('x es mayor que y')\n",
    "else:\n",
    "    print('x e y son iguales')\n"
   ]
  },
  {
   "source": [
    "\n",
    "## Ciclos FOR\n",
    "\n",
    "Los ciclos For en Python son simples. La estructura basica esta dada por **`for <var-name> in <iterable> :`**\n",
    "**Importante** finalizando el for siempre debe de ir **:**, es obligatorio y para los constructores del flujo de control son obligación. \n",
    "\n",
    "El bloque que sera iterado esta determinado por la tabulación de las lineas siguientes del for.   \n",
    "   \n",
    "La linea en blanco despues de las dos sentencias no es obligatoria, pero es considerada buena practica. Las lineas luego del ciclo for no llevan tabulación, por lo tanto ya estan fuera del ciclo."
   ],
   "cell_type": "markdown",
   "metadata": {}
  },
  {
   "cell_type": "code",
   "execution_count": 74,
   "metadata": {},
   "outputs": [
    {
     "output_type": "stream",
     "name": "stdout",
     "text": [
      "Juan\n4 characters\n\nis\n2 characters\n\n1.70\n4 characters\n\nmetres\n6 characters\n\nhigh\n4 characters\n\nThe loop is done\n"
     ]
    }
   ],
   "source": [
    "string_list = [ \"Juan\", \"is\", \"1.70\", \"metres\", \"high\"]\n",
    "\n",
    "for elem in string_list : \n",
    "    print( elem )\n",
    "    print( len(elem), 'characters\\n' )\n",
    "    \n",
    "print( \"The loop is done\")"
   ]
  },
  {
   "cell_type": "code",
   "execution_count": 75,
   "metadata": {},
   "outputs": [
    {
     "output_type": "stream",
     "name": "stdout",
     "text": [
      "0\nJuan\n4\n1\nis\n2\n2\n1.70\n4\n3\nmetres\n6\n4\nhigh\n4\n"
     ]
    }
   ],
   "source": [
    "for idx in range(len(string_list)):\n",
    "  print(idx)\n",
    "  print(string_list[idx])\n",
    "  print(len(string_list[idx]))"
   ]
  },
  {
   "source": [
    "#### Otra forma de iterar un ciclo for : range ( a, b, s )\n",
    "\n",
    "Una forma común de iterar un ciclo for es desde 0 hasta n-1.  Esto se puede implementar con una funcion range."
   ],
   "cell_type": "markdown",
   "metadata": {}
  },
  {
   "cell_type": "code",
   "execution_count": null,
   "metadata": {},
   "outputs": [],
   "source": [
    "n = 10 # desired number of iterations\n",
    "\n",
    "for  i in range(0,10) : \n",
    "    print( f\"i = {i}\")"
   ]
  },
  {
   "source": [
    "## La sentencia while\n",
    "Los computadores se suelen utilizar a menudo para automatizar tareas repetitivas. Repetir\n",
    "tareas idénticas o muy similares sin cometer errores es algo que a las máquinas\n",
    "se les da bien y en cambio a las personas no. Como las iteraciones resultan tan habituales, Python proporciona varias características en su lenguaje para hacerlas\n",
    "más sencillas.\n",
    "Una forma de iteración en Python es la sentencia while. He aquí un programa\n",
    "sencillo que cuenta hacia atrás desde diez y luego dice  '¡Arranque!'"
   ],
   "cell_type": "markdown",
   "metadata": {}
  },
  {
   "cell_type": "code",
   "execution_count": 76,
   "metadata": {},
   "outputs": [
    {
     "output_type": "stream",
     "name": "stdout",
     "text": [
      "10\n9\n8\n7\n6\n5\n4\n3\n2\n1\n¡Arranque!\n"
     ]
    }
   ],
   "source": [
    "n = 10\n",
    "while n > 0:\n",
    "    print(n)\n",
    "    n = n - 1\n",
    "print('¡Arranque!')\n"
   ]
  },
  {
   "source": [
    "### Finalizar iteraciones con continue\n",
    "Algunas veces, estando dentro de un bucle se necesita terminar con la iteración\n",
    "actual y saltar a la siguiente de forma inmediata. En ese caso se puede utilizar\n",
    "la sentencia continue para pasar a la siguiente iteración sin terminar la ejecución\n",
    "del cuerpo del bucle para la actual.\n",
    "A continuación se muestra un ejemplo de un bucle que repite lo que recibe como\n",
    "entrada hasta que el usuario escribe “fin”, pero trata las líneas que empiezan por el\n",
    "carácter almohadilla como líneas que no deben mostrarse en pantalla (algo parecido\n",
    "a lo que hace Python con los comentarios).\n"
   ],
   "cell_type": "markdown",
   "metadata": {}
  },
  {
   "cell_type": "code",
   "execution_count": 79,
   "metadata": {},
   "outputs": [
    {
     "output_type": "stream",
     "name": "stdout",
     "text": [
      "¡Terminado!\n"
     ]
    }
   ],
   "source": [
    "while True:\n",
    "    linea = input('> ')\n",
    "    if linea[0] == '#' :\n",
    "        continue\n",
    "    if linea == 'fin':\n",
    "        break\n",
    "    print(linea)\n",
    "print('¡Terminado!')"
   ]
  },
  {
   "source": [
    "### Ejercicio 4\n",
    "\n",
    "Dado un número entero $n$, realice las siguientes acciones condicionales:\n",
    "\n",
    "1. Si es impar imprima 'Extraño'\n",
    "2. Si es par y esta en el rango inclusive de 2 a 5, imprima 'No Extraño'\n",
    "3. Si es par y esta en el rango inclusive de 6 a 20, imprima 'Extraño' \n",
    "4. Si es par y es más grande que 20, imprima 'No Extraño'\n",
    "\n",
    "***Ejemplos:***\n",
    "$$n = 3$$\n",
    "$n$ es impar y los números impares son de tipo 'Extraño', así que debe de imprimir 'Extraño'.\n",
    "$$n = 24$$\n",
    "$n$ es par y es mayor que 20, los números pares mayores que 20 son de tipo ' No Extraño', así que debe de imprimir 'No Extraño'.\n"
   ],
   "cell_type": "markdown",
   "metadata": {}
  },
  {
   "source": [
    "## Excepciones\n",
    "\n",
    "Sin importar que la declaración este sintácticamente correcta, puede generar un error cuando se intenta ejecutarla. Los errores detectados durante la ejecución se llaman excepciones pueden ser manejados por los programas en Python. \n",
    "\n",
    "La declaración `try` nos permite manejar las excepciones y trabaja de la siguiente manera:\n",
    "\n",
    "1. Se ejecuta el *bloque try* (el código entre la declaración `try`y `except`)\n",
    "2. Si no ocurre una excepción el `boque except` se omite y termina la ejecución de la declaración `try`.\n",
    "3. Si ocurre una excepción durante la ejecución del *bloque try*, el resto del bloque se omite.  Si el tipo de excepción coincide con la excepción nombreada luevo de la palabra reservada `except`, se ejecuta el *bloque except*, y la ejecución continúa luego de la declaración `try`.\n",
    "4. Si ocurre una excepción que no coincida con la excepción nombrada en el `except`, esta es una excepción no manejada y la ejecución se frena con un mensaje de error indicando lo que sucedió, por ejemplo: **ZeroDivisionError**, **NameError**, **TypeError** y **ValueError**."
   ],
   "cell_type": "markdown",
   "metadata": {}
  },
  {
   "cell_type": "code",
   "execution_count": 84,
   "metadata": {},
   "outputs": [
    {
     "output_type": "stream",
     "name": "stdout",
     "text": [
      "an exception was thrown: defaulting to special float value = nan\n"
     ]
    }
   ],
   "source": [
    "# try-except structure with particular type of exception defined\n",
    "my_string = \"asd\"\n",
    "try : \n",
    "    my_string_as_float = 2 / 0 #float( my_string ) \n",
    "    print( \"the entered value could be converted directly to a number\")\n",
    "except :  \n",
    "    # capture this particular type of exception and bind it to the name 'err'\n",
    "    print( \"an exception was thrown: defaulting to special float value = nan\")\n",
    "    a_as_float = float( \"nan\")\n",
    "\n"
   ]
  },
  {
   "cell_type": "code",
   "execution_count": 85,
   "metadata": {},
   "outputs": [
    {
     "output_type": "stream",
     "name": "stdout",
     "text": [
      "the entered value could be converted directly to a number\n"
     ]
    }
   ],
   "source": [
    "# try-except structure with general type of exception\n",
    "my_string = 12\n",
    "try : \n",
    "    my_string_as_float = float( my_string ) \n",
    "    print( \"the entered value could be converted directly to a number\")\n",
    "except:  \n",
    "    # capture this particular type of exception and bind it to the name 'err'\n",
    "    print( \"an exception was thrown: defaulting to special float value = nan\")\n",
    "    a_as_float = float( \"nan\")\n",
    "    print( f\"a_as_float = {a_as_float}\")"
   ]
  },
  {
   "source": [
    "# Clases\n",
    "\n",
    "Las clases proveen una forma de empaquetar datos y funcionalidad juntos. Al crear una nueva clase, se crea un nuevo *tipo* de objeto, permitiendo crear nuevas *instancias* de este tipo.  Cada instancia de clase puede tener atributos adjuntos para mantener su estado.  Las instancias de clase también pueden tener métodos (definidos por su clase) para modificar su estado.\n",
    "\n",
    "La variable *self* es una instancia de la clase y no es ua palabra reservada de Python, cualquier etiqueta utilizada como primer parámetro tendría el mismo valor (no se aconseja usar otro valor por convención).  Cada vez que declaremos un método en Python, vamos a tener uqe agregarle la variable *self* para que cuando sea invocado el método, Python pase el objeto instanciado y opere con los valores actuales de esa instancia.  \n",
    "  "
   ],
   "cell_type": "markdown",
   "metadata": {}
  },
  {
   "cell_type": "code",
   "execution_count": 87,
   "metadata": {},
   "outputs": [],
   "source": [
    "# Definimos la clase con nombre Mascota\n",
    "class Mascota:\n",
    "  # Atributos\n",
    "  especie = 'Gato'\n",
    "  _oculto = 2\n",
    "\n",
    "  \n",
    "  def __init__(self,nombre,especie=especie):\n",
    "    \"\"\"\n",
    "      El método __init__ es una función para inicializar la clase, si no se especifica la especie toma el valor por defecto definido en el atributo.\n",
    "    \"\"\"\n",
    "    self.nombre = nombre\n",
    "    self.especie = especie\n",
    "    self._private=None\n",
    "  \n",
    "  def __str__(self):\n",
    "    \"\"\"\n",
    "      El método __str__ es una función que proporciona una cadena informal de la representación del objeto.\n",
    "    \"\"\"\n",
    "    return \"%s es un %s\" % (self.nombre, self.especie)\n",
    "\n",
    "  def darNombre(self):\n",
    "    \"\"\"\n",
    "      Retorna el nombre de la mascota.\n",
    "    \"\"\"\n",
    "    return self.nombre\n",
    "  \n",
    "  def darEspecie(self):\n",
    "    \"\"\"\n",
    "      Retorna la especie de la mascota.\n",
    "    \"\"\"\n",
    "    return self.especie"
   ]
  },
  {
   "cell_type": "code",
   "execution_count": 88,
   "metadata": {},
   "outputs": [
    {
     "output_type": "stream",
     "name": "stdout",
     "text": [
      "Teo es un Perro\n"
     ]
    }
   ],
   "source": [
    "Teo = Mascota(\"Teo\",\"Perro\")\n",
    "print(Teo)"
   ]
  },
  {
   "cell_type": "code",
   "execution_count": 89,
   "metadata": {},
   "outputs": [
    {
     "output_type": "stream",
     "name": "stdout",
     "text": [
      "Teo es un Gato\n"
     ]
    }
   ],
   "source": [
    "Teo.especie='Gato'\n",
    "print(Teo)"
   ]
  },
  {
   "source": [
    "# Funciones lambda\n",
    "\n",
    "Lambdas es la forma de Python de definir funciones anónimas muy simples cuyo valor de retorno es el resultado de evaluar una sola expresión.\n",
    "\n",
    "```python\n",
    "lambda argumentos: resultado\n",
    "```\n",
    "\n",
    "Una de las razones por las que desees utilizar este tipo de funciones es por rapidez y en ciertos casos claridad del código."
   ],
   "cell_type": "markdown",
   "metadata": {}
  },
  {
   "cell_type": "code",
   "execution_count": 90,
   "metadata": {},
   "outputs": [
    {
     "output_type": "execute_result",
     "data": {
      "text/plain": [
       "5"
      ]
     },
     "metadata": {},
     "execution_count": 90
    }
   ],
   "source": [
    "# Define function\n",
    "def function_sum(x,y):\n",
    "  return x + y\n",
    "function_sum(2,3)"
   ]
  },
  {
   "cell_type": "code",
   "execution_count": 91,
   "metadata": {},
   "outputs": [
    {
     "output_type": "execute_result",
     "data": {
      "text/plain": [
       "5"
      ]
     },
     "metadata": {},
     "execution_count": 91
    }
   ],
   "source": [
    "# Define lambda\n",
    "lambda_function = lambda x,y: x + y\n",
    "lambda_function(2,3)"
   ]
  },
  {
   "cell_type": "code",
   "execution_count": 92,
   "metadata": {},
   "outputs": [],
   "source": [
    "data_recs = [\n",
    "  [ \"Maria\",  7.0, 8.0, 3.0 ],\n",
    "  [ \"Juan\" ,  5.0, 2.0, 2.0 ],\n",
    "  [ \"Mateo\",  1.0, 4.0, 4.0 ],     \n",
    "]"
   ]
  },
  {
   "cell_type": "code",
   "execution_count": 93,
   "metadata": {},
   "outputs": [
    {
     "output_type": "execute_result",
     "data": {
      "text/plain": [
       "5.0"
      ]
     },
     "metadata": {},
     "execution_count": 93
    }
   ],
   "source": [
    "data_recs[:][1][1]"
   ]
  },
  {
   "cell_type": "code",
   "execution_count": 94,
   "metadata": {},
   "outputs": [
    {
     "output_type": "execute_result",
     "data": {
      "text/plain": [
       "[['Juan', 5.0, 2.0, 2.0], ['Maria', 7.0, 8.0, 3.0], ['Mateo', 1.0, 4.0, 4.0]]"
      ]
     },
     "metadata": {},
     "execution_count": 94
    }
   ],
   "source": [
    "sorted(data_recs)"
   ]
  },
  {
   "cell_type": "code",
   "execution_count": 95,
   "metadata": {},
   "outputs": [
    {
     "output_type": "execute_result",
     "data": {
      "text/plain": [
       "[['Mateo', 1.0, 4.0, 4.0], ['Juan', 5.0, 2.0, 2.0], ['Maria', 7.0, 8.0, 3.0]]"
      ]
     },
     "metadata": {},
     "execution_count": 95
    }
   ],
   "source": [
    "records_sorted = sorted(data_recs, key = lambda rec : rec[1])\n",
    "records_sorted"
   ]
  },
  {
   "source": [
    "## Filtrando objetos"
   ],
   "cell_type": "markdown",
   "metadata": {}
  },
  {
   "cell_type": "code",
   "execution_count": 96,
   "metadata": {},
   "outputs": [
    {
     "output_type": "stream",
     "name": "stdout",
     "text": [
      "Juan de 35 años\nMarta de 16 años\nManuel de 78 años\nEduardo de 12 años\n"
     ]
    }
   ],
   "source": [
    "# Definimos una clase persona\n",
    "class Persona:\n",
    "\n",
    "    def __init__(self, nombre, edad):\n",
    "        self.nombre = nombre\n",
    "        self.edad = edad\n",
    "\n",
    "    def __str__(self):\n",
    "        return \"{} de {} años\".format(self.nombre, self.edad)\n",
    "\n",
    "# Se crea una lista con 4 personas\n",
    "personas = [\n",
    "    Persona(\"Juan\", 35),\n",
    "    Persona(\"Marta\", 16),\n",
    "    Persona(\"Manuel\", 78),\n",
    "    Persona(\"Eduardo\", 12)\n",
    "]\n",
    "\n",
    "# Visualizamos la lista\n",
    "for p in personas:\n",
    "    print(p)"
   ]
  },
  {
   "cell_type": "code",
   "execution_count": 97,
   "metadata": {},
   "outputs": [
    {
     "output_type": "stream",
     "name": "stdout",
     "text": [
      "Marta de 16 años\nEduardo de 12 años\n"
     ]
    }
   ],
   "source": [
    "# Se desea filtrar los menores de 18\n",
    "menores = filter(lambda persona: persona.edad < 18, personas)\n",
    "\n",
    "# Visualizamos los objetos de la lista filtrada\n",
    "for menor in menores:\n",
    "    print(menor)"
   ]
  },
  {
   "source": [
    "## Ciclos y List Comprenhensions\n",
    "\n",
    "Supongamos que nos dan: \n",
    "\n",
    "* Una lista de entrada input_arr = [elem1, elem2, elem3, ...]\n",
    "* Una función fun\n",
    "\n",
    "Queremos producir el array output_arr = [fun (elem1), fun (elem2), fun (elem3)], es decir, con aplicar fun a cada elemento de la matriz y devolver los resultados.\n",
    "\n",
    "Aquí es cómo la mayoría de los programadores abordarían este problema:"
   ],
   "cell_type": "markdown",
   "metadata": {}
  },
  {
   "cell_type": "code",
   "execution_count": 98,
   "metadata": {},
   "outputs": [
    {
     "output_type": "execute_result",
     "data": {
      "text/plain": [
       "['Maria', 'Ana', 'Sara']"
      ]
     },
     "metadata": {},
     "execution_count": 98
    }
   ],
   "source": [
    "input_arr = [\"maria\", \"ana\", \"sara\"]\n",
    "capitalize = lambda a_str :  a_str[0].upper() + a_str[1:]\n",
    "\n",
    "# NON-Idiomatic Python code follows: \n",
    "output_arr = []\n",
    "for elem in input_arr : \n",
    "    output_arr.append( capitalize( elem ) )\n",
    "    \n",
    "output_arr"
   ]
  },
  {
   "source": [
    "Eso es aproximadamente 3 líneas. No está mal, pero podría ser mucho mejor.\n",
    "La solución idiomática de Python se llama **List (or for) comprehension**.\n",
    "\n",
    "```python\n",
    "[funcion(x) for item in list1]\n",
    "```"
   ],
   "cell_type": "markdown",
   "metadata": {}
  },
  {
   "cell_type": "code",
   "execution_count": 99,
   "metadata": {},
   "outputs": [
    {
     "output_type": "stream",
     "name": "stdout",
     "text": [
      "['Maria', 'Ana', 'Sara']\n"
     ]
    }
   ],
   "source": [
    "output_arr2 = [ capitalize(elem)  for elem in input_arr ]\n",
    "print(output_arr2)"
   ]
  },
  {
   "source": [
    "## Condicionales en List Comprehensions\n",
    "\n",
    "En este caso se desea realizar un condicional para definir el valor, se tienen dos estructuras, si la condición solo tiene IF, o si se tiene la estructura IF-ELSE\n",
    "\n",
    "```python\n",
    "[result1 if conditional else result2 for item in list1 ]\n",
    "[result for item in list1 if conditional]\n",
    "```"
   ],
   "cell_type": "markdown",
   "metadata": {}
  },
  {
   "cell_type": "code",
   "execution_count": 100,
   "metadata": {},
   "outputs": [
    {
     "output_type": "stream",
     "name": "stdout",
     "text": [
      "[1, 4, 27, 16, 125, 36, 343, 64, 729, 100, 1331, 144, 2197, 196, 3375]\n"
     ]
    }
   ],
   "source": [
    "squares_cubes = [n**2 if n%2 == 0 else n**3 for n in range(1,16)]\n",
    "print(squares_cubes)"
   ]
  },
  {
   "cell_type": "code",
   "execution_count": 101,
   "metadata": {},
   "outputs": [
    {
     "output_type": "stream",
     "name": "stdout",
     "text": [
      "[2, 4, 6, 8, 10, 12, 14, 16, 18, 20]\n"
     ]
    }
   ],
   "source": [
    "evens = [n for n in range(1,21) if n%2 == 0] \n",
    "print(evens)"
   ]
  },
  {
   "cell_type": "code",
   "execution_count": 102,
   "metadata": {},
   "outputs": [
    {
     "output_type": "stream",
     "name": "stdout",
     "text": [
      "[[1, 5, 9], [2, 6, 10], [3, 7, 11], [4, 8, 12]]\n"
     ]
    }
   ],
   "source": [
    "matrix = [\n",
    "    [1, 2, 3, 4],\n",
    "    [5, 6, 7, 8],\n",
    "    [9, 10, 11, 12],\n",
    "]\n",
    " \n",
    "transpose = [[row[n] for row in matrix] for n in range(4)]\n",
    " \n",
    "print(transpose)"
   ]
  },
  {
   "source": [
    "## Ejercicio 5\n",
    "\n",
    "Defina una función avg1 que tome una lista que conste del nombre de una persona (str) y luego solo números y calcula y devuelve el promedio de esos números.\n",
    "\n",
    "Por ejemplo: \n",
    "```python\n",
    "avg1 (['Mateo', 5.0, 2.0, 2.0])\n",
    "``` \n",
    "debe devolver 3, es el resultado de realizar la siguiente operación: `((5 + 2 + 2) / 3))`"
   ],
   "cell_type": "markdown",
   "metadata": {}
  },
  {
   "source": [
    "## Ejercicio 6\n",
    "\n",
    "Use list-comprehension para aplicar la función avg1 definida anteriormente a cada registro en data_recs.\n",
    "\n",
    "```python\n",
    "data_recs = [\n",
    "  [ \"Juan\" ,  5.0, 2.0, 2.0 ],\n",
    "  [ \"Maria\",  7.0, 8.0, 3.0 ], \n",
    "  [ \"Mateo\",  1.0, 4.0, 4.0 ],     \n",
    "]\n",
    "````"
   ],
   "cell_type": "markdown",
   "metadata": {}
  },
  {
   "source": [
    "## Archivos de texto y líneas\n",
    "Un archivo de texto puede ser considerado como una secuencia de líneas, así como\n",
    "una cadena de Python puede ser considerada como una secuencia de caracteres.\n",
    "Por ejemplo, este es un ejemplo de un archivo de texto que registra la actividad\n",
    "de correos de varias personas en un equipo de desarrollo de un proyecto de código\n",
    "abierto (open source):"
   ],
   "cell_type": "markdown",
   "metadata": {}
  },
  {
   "cell_type": "code",
   "execution_count": 112,
   "metadata": {},
   "outputs": [
    {
     "output_type": "stream",
     "name": "stdout",
     "text": [
      "Contador de líneas: 1910\n"
     ]
    }
   ],
   "source": [
    "man_archivo = open('mbox-short.txt')\n",
    "contador = 0\n",
    "for linea in man_archivo:\n",
    "    contador = contador + 1\n",
    "print('Contador de líneas:', contador)\n"
   ]
  },
  {
   "source": [
    "## Ejercicio 7\n",
    "\n",
    "Escribir un programa para leer a través de datos de una bandeja de entrada de correo y\n",
    "cuando encuentre una línea que comience con `From`, dividir la línea en palabras utilizando\n",
    "la función split. Estamos interesados en quién envió el mensaje, lo cual es la segunda\n",
    "palabra en las líneas que comienzan con From.\n",
    "Por ejemplo se tienen lineas como la siguiente:\n",
    "\n",
    "`From stephen.marquard@uct.ac.za Sat Jan 5 09:14:16 2008`\n",
    "\n",
    "Se tienen que analizar la línea que empieza por From e imprimir la segunda palabra de cada\n",
    "línea, siguiendo el ejemplo serìa imprimir `stephen.marquard@uct.ac.za` después tendrá\n",
    "que contar el número de líneas (no incluir From:) e imprimir el total al final.\n",
    "\n",
    "\n",
    "hint:se peude basar en las  funciones `.rstrip()  .split() `"
   ],
   "cell_type": "markdown",
   "metadata": {}
  },
  {
   "source": [
    "### Numpy: manejo de arrays y matrices\n",
    "Muchas de las funciones de la biblioteca numpy regresan el tipo de dato array, por\n",
    "lo que en la página oficial (https://docs.scipy.org/doc/) la recomendación es que se realicen los\n",
    "cálculos utilizando este tipo de datos. Mostramos con ejemplos el uso de algunas de\n",
    "las funciones, adicionales a las que se presentaron en capítulos anteriores.\n"
   ],
   "cell_type": "markdown",
   "metadata": {}
  },
  {
   "cell_type": "code",
   "execution_count": 2,
   "metadata": {},
   "outputs": [
    {
     "output_type": "stream",
     "name": "stdout",
     "text": [
      "[0 1 2 3 4 5 6 7 8 9]\n"
     ]
    }
   ],
   "source": [
    "#Se importa la Biblioteca\n",
    "import numpy as np\n",
    "# Creamos una variable que contenga los valores del 0 al 9\n",
    "a = np.arange(10)\n",
    "# Desplegamos el valor de la variable\n",
    "print(a)"
   ]
  },
  {
   "source": [
    "Si una vez creado un arreglo deseamos conocer la forma (shape) y el tamaño (size)\n",
    "del mismo, se puede hacer de la siguiente forma:\n"
   ],
   "cell_type": "markdown",
   "metadata": {}
  },
  {
   "cell_type": "code",
   "execution_count": 3,
   "metadata": {},
   "outputs": [
    {
     "output_type": "stream",
     "name": "stdout",
     "text": [
      "[[1 2]\n [2 4]]\n"
     ]
    }
   ],
   "source": [
    "# Crear un arreglo multidimensional 2x2 con tipo de dato int32\n",
    "A = np.array([[1, 2], [2, 4]] , np.int32)\n",
    "print (A)\n"
   ]
  },
  {
   "cell_type": "code",
   "execution_count": 4,
   "metadata": {},
   "outputs": [
    {
     "output_type": "stream",
     "name": "stdout",
     "text": [
      "(2, 2)\n4\n"
     ]
    }
   ],
   "source": [
    "print(A.shape)\n",
    "# Para conocer el tamańo del arreglo\n",
    "print(A.size)\n"
   ]
  },
  {
   "source": [
    "Existen también funciones que permiten crear matrices definidas y conocidas de álgebra lineal como la matriz identidad o matrices con ceros. La tabla  muestra de\n",
    "manera condensada estas funciones.\n",
    "\n",
    "\n",
    "<img src=\"operaciones basicas numpy.png\" alt=\"\" style=\"height:200px\"></img>"
   ],
   "cell_type": "markdown",
   "metadata": {}
  },
  {
   "cell_type": "code",
   "execution_count": 7,
   "metadata": {},
   "outputs": [
    {
     "output_type": "stream",
     "name": "stdout",
     "text": [
      "[[1. 0. 0.]\n [0. 1. 0.]\n [0. 0. 1.]]\n[[0. 0. 0. 0. 0.]\n [0. 0. 0. 0. 0.]\n [0. 0. 0. 0. 0.]]\n[[1. 1. 1. 1. 1. 1.]\n [1. 1. 1. 1. 1. 1.]\n [1. 1. 1. 1. 1. 1.]\n [1. 1. 1. 1. 1. 1.]]\n"
     ]
    }
   ],
   "source": [
    "I = np.eye(3)\n",
    "b = np.zeros((3, 5))\n",
    "o = np.ones((4, 6))\n",
    "print(I)\n",
    "print(b)\n",
    "print(o)"
   ]
  },
  {
   "source": [
    "En la Tabla tenemos una lista de las operaciones elementales utilizadas para\n",
    "manejar matrices. A lo largo del curso se hará uso de éstas y otras operaciones en\n",
    "los diversos ejemplos.\n",
    "\n",
    "<img src=\"matrices.png\" alt=\"\" style=\"height:200px\"></img>"
   ],
   "cell_type": "markdown",
   "metadata": {}
  },
  {
   "cell_type": "code",
   "execution_count": 9,
   "metadata": {},
   "outputs": [
    {
     "output_type": "stream",
     "name": "stdout",
     "text": [
      "[[ 8 10 12]\n [14 16 18]]\n[[-6 -6 -6]\n [-6 -6 -6]]\n[[ 7 16 27]\n [40 55 72]]\n[[0.14285714 0.25       0.33333333]\n [0.4        0.45454545 0.5       ]]\n"
     ]
    }
   ],
   "source": [
    "X = np.array([[1,2,3],[4,5,6]])\n",
    "Y = np.array([[7,8,9],[10,11,12]])\n",
    "print(X+Y)\n",
    "print(X-Y)\n",
    "print(X*Y)\n",
    "print(X/Y)"
   ]
  },
  {
   "source": [],
   "cell_type": "markdown",
   "metadata": {}
  },
  {
   "source": [
    "## Ejercicio 8\n",
    "\n",
    "cargar cualquier imagen a color, hallar las dimensiones , extraer y visualizar cada uno de sus canales de color(RGB), recortar la imagen en una region que considere de interes , en esa region hallar el promedio,la desviacion,  el maximo y el minimo   y realizar una operacion basica de matriz que exalte o mejore de alguna manera dicha region de inspeccion (suma , multiplicacion , resta(puede ser con otra imagen)), en fin ... deja fluir tu cratividad.\n",
    "\n",
    "para la visualizacion se peude usar matplotlib y para la manipulacion de imagenes es recomendable usar numpy y/o OpenCV"
   ],
   "cell_type": "markdown",
   "metadata": {}
  },
  {
   "cell_type": "code",
   "execution_count": null,
   "metadata": {},
   "outputs": [],
   "source": []
  }
 ],
 "metadata": {
  "kernelspec": {
   "name": "python385jvsc74a57bd03715ed6a1757b6d442655617903a8f5e405973e8d291d76c5c0ce00539a5620e",
   "display_name": "Python 3.8.5 64-bit ('base': conda)"
  },
  "language_info": {
   "codemirror_mode": {
    "name": "ipython",
    "version": 3
   },
   "file_extension": ".py",
   "mimetype": "text/x-python",
   "name": "python",
   "nbconvert_exporter": "python",
   "pygments_lexer": "ipython3",
   "version": "3.8.5"
  }
 },
 "nbformat": 4,
 "nbformat_minor": 4
}