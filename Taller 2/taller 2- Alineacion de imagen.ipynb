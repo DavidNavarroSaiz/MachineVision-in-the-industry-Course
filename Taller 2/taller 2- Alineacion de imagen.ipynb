{
 "metadata": {
  "language_info": {
   "codemirror_mode": {
    "name": "ipython",
    "version": 3
   },
   "file_extension": ".py",
   "mimetype": "text/x-python",
   "name": "python",
   "nbconvert_exporter": "python",
   "pygments_lexer": "ipython3",
   "version": "3.8.5-final"
  },
  "orig_nbformat": 2,
  "kernelspec": {
   "name": "python3",
   "display_name": "Python 3",
   "language": "python"
  }
 },
 "nbformat": 4,
 "nbformat_minor": 2,
 "cells": [
  {
   "source": [
    "# Visión artificial aplicada a la industria\n",
    "### Intecol SAS\n",
    "## Taller 2: Alineacion de imagenes\n"
   ],
   "cell_type": "markdown",
   "metadata": {}
  },
  {
   "source": [
    "Sergey Mikhaylovich Prokudin-Gorsky(Ruso , Agosto 30 de 1863-septiembre 27 de 1944) fue un quimico y fotografo ruso , que es mejor conocido por ser pionero en el trabajo del color de la fotografia .\n",
    "\n",
    "El metodo de fotografia a color fue sugerido en 1955 por James Clerk Maxwell y demostrado en 1861, en imitacion en la forma en que los ojos humanos perciben el color , el espectro visible de los colores es dividido en tres canales de informacion, capturandolo en tres fotografias a blanco y negro, una tomado con un filtro rojo , despues otra tomada con un filtro verde y finalmente un filtro azul. Esas tres fotogrfias pueden ser proyectadas en filtros del mismo color y ser interpuestas en una pantalla, sintetizando el rango original de colores aditivamente .\n",
    "\n",
    "<img src=\"images/Alleia_Hamerops_composite.jpg\">\n",
    "\n",
    "En este Taller debes hacer un programa que alinee las imagenes de cada uno de los canales para dar lugar a una imagen  a color .\n",
    "\n",
    "\n",
    "\n"
   ],
   "cell_type": "markdown",
   "metadata": {}
  },
  {
   "cell_type": "code",
   "execution_count": null,
   "metadata": {},
   "outputs": [],
   "source": [
    "%pylab inline\n",
    "import matplotlib.pyplot as plt \n",
    "import numpy as np\n",
    "from PIL import Image\n",
    "import os\n",
    "from skimage.io import imread\n",
    "import skimage.filters as filters"
   ]
  },
  {
   "source": [
    "La imagen de entrada es un conjunto de 3 placas de fotografia , correspondientes a los canales B,G y R (de arriba hacia abajo).\n",
    "\n",
    "### se debe crear una funcion (load data) que lea las imagenes de la carpeta \"plates\" y que devuelva una lista de imagenes.\n",
    "\n",
    "Ayuda : Utilizar endswith('.png') en un condicional"
   ],
   "cell_type": "markdown",
   "metadata": {}
  },
  {
   "cell_type": "code",
   "execution_count": null,
   "metadata": {},
   "outputs": [],
   "source": [
    "def load_data(dir_name = 'plates'):\n",
    "    images = []\n",
    "\n",
    "    ''' Escriba aca su codigo'''\n",
    "\n",
    "    return images\n",
    "\n",
    "plates = load_data()\n"
   ]
  },
  {
   "source": [
    "## visualizacion del conjunto de datos"
   ],
   "cell_type": "markdown",
   "metadata": {}
  },
  {
   "cell_type": "code",
   "execution_count": null,
   "metadata": {},
   "outputs": [],
   "source": [
    "def visualize(imgs, format=None):\n",
    "    plt.figure(figsize=(20, 40))\n",
    "    for i, img in enumerate(imgs):\n",
    "        if img.shape[0] == 3:\n",
    "            img = img.transpose(1,2,0)\n",
    "        plt_idx = i+1\n",
    "        plt.subplot(3, 3, plt_idx)    \n",
    "        plt.imshow(img, cmap=format)\n",
    "    plt.show()\n",
    "\n",
    "visualize(plates, 'gray')"
   ]
  },
  {
   "source": [
    "## Recortar Bordes\n",
    "Cree una Funcion \"remove_borders\" que tenga como entrada una imagen y un numero float que sera un porcentaje (0-100), se debe recortar dicho porcentaje de la imagen en todos sus lados para asi eliminar los molestos bordes"
   ],
   "cell_type": "markdown",
   "metadata": {}
  },
  {
   "source": [
    "Bonus: Utilizar Filtro Canny para recortar la imagen(crear una nueva funcion)."
   ],
   "cell_type": "markdown",
   "metadata": {}
  },
  {
   "cell_type": "code",
   "execution_count": null,
   "metadata": {},
   "outputs": [],
   "source": [
    "def remove_borders(img,percentage):\n",
    "    \"\"\" Escriba Aca su codigo\"\"\"   \n",
    "    return img_recortada\n",
    "\n",
    "\n",
    "cropped_imgs = []\n",
    "percentage = \"Ingrese el porcentaje indicado aca\"\n",
    "#crop borders\n",
    "\n",
    "for i, img in enumerate(plates):\n",
    "    cropped_imgs.append(remove_borders(img,percentage))"
   ]
  },
  {
   "cell_type": "code",
   "execution_count": null,
   "metadata": {},
   "outputs": [],
   "source": [
    "visualize(cropped_imgs, 'gray')"
   ]
  },
  {
   "source": [
    "## Separacion por canales\n",
    "\n",
    "El proximo paso es separar la imagen en 3 canales y obtener una imagen a color (RGB), puede dividir la imagen en 3 .\n",
    "\n",
    "Nota: Recuerde que los canales de la imagen vienen como  B,G y R (de arriba hacia abajo).\n",
    "\n",
    "ayuda: utilizar np.stack para unir los 3 canales (por ejemplo: np.stack((R,G,B),axis= -1) )\n"
   ],
   "cell_type": "markdown",
   "metadata": {}
  },
  {
   "cell_type": "code",
   "execution_count": null,
   "metadata": {},
   "outputs": [],
   "source": [
    "def impose_components(img):\n",
    "    \n",
    "    \"\"\" Escriba Aca su codigo\"\"\"   \n",
    "    return rgb_img\n"
   ]
  },
  {
   "cell_type": "code",
   "execution_count": null,
   "metadata": {},
   "outputs": [],
   "source": [
    "rgb_imgs = []\n",
    "for cropped_img in cropped_imgs:\n",
    "    rgb_img = impose_components(cropped_img)\n",
    "    rgb_imgs.append(rgb_img)\n",
    "\n",
    "visualize(rgb_imgs) "
   ]
  },
  {
   "source": [
    "## Buscar la mejor alineacion de las imagenes\n",
    "\n",
    "Felicidades, ya tenemos nuestra imagen a color , sin embargo como te habras dado cuenta los canales no se encuentran alineados correctamente.\n",
    "Para lograr la mejor alineacion entre dos imagenes tenemos que desplazar una imagen respecto a la otra dentro de unos limites establecidos . Para cada desplazamiento tenemos que evaluar unas metricas de superposicion  de las imagenes. Dependiendo de dichas metricas , el mejor desplazamiento es aquel en el que las metricas equivalen a el mayor o el menor valor.\n",
    "\n",
    "Se deben implementar dos metricas y elegir la metrica con la que obtienes mejor calidad de alineamiento:\n",
    "\n",
    "\n",
    "* *Error cuadratico medio - Mean squared error(MSE):* <br><br>\n",
    "$$ MSE(I_1, I_2) = \\dfrac{1}{w * h}\\sum_{x,y}(I_1(x,y)-I_2(x,y))^2, $$ <br> Donde *w, h* son el ancho y el alto de las imagenes , respectivamente . Para encontrar el desplazamiento optimo se debe encontrar el minimo MSE sobre todos los valores de desplazamiento.\n",
    "    <br><br>\n",
    "\n",
    "* *Correlacion-cruzada normalizada - Normalized cross-correlation (CC):*<br><br>\n",
    "    $$\n",
    "    I_1 \\ast I_2 = \\dfrac{\\sum_{x,y}I_1(x,y)I_2(x,y)}{\\sum_{x,y}I_1(x,y)\\sum_{x,y}I_2(x,y)}.\n",
    "    $$<br>\n",
    "    Para encontrar el desplazamiento optimo encontrar el maximo CC sobre todo el conjunto de valores de desplazamiento\n"
   ],
   "cell_type": "markdown",
   "metadata": {}
  },
  {
   "source": [
    "## Definir las metricas de desplazamiento\n",
    "\n",
    "Crear dos funciones 'mse' y 'cor' que tenga como entrada dos imagenes X y Y y calcule el mse y el cc respectivamente"
   ],
   "cell_type": "markdown",
   "metadata": {}
  },
  {
   "cell_type": "code",
   "execution_count": null,
   "metadata": {},
   "outputs": [],
   "source": [
    "def mse(X,Y):\n",
    "    \"\"\" Escriba Aca su codigo\"\"\"   \n",
    "    return mse\n",
    "    \n",
    "def cor(X, Y):\n",
    "    \"\"\" Escriba Aca su codigo\"\"\"    \n",
    "    return cc    "
   ]
  },
  {
   "source": [
    "## Realizar el desplazamiento de canales\n",
    "\n",
    " Complete la funcion  def get_best_shift,que recibe dos imagenes (o dos canales de una imagen RGB), un metodo (mse o cc) y un numero de iteraciones.\n",
    "\n",
    "\n",
    " Lo que debe realizar la funcion es desplazar la imagen desde -iteraciones hasta iteraciones y en cada desplazamiento se calcula el mse y cc , luego almacena la metrica minima o maxima dependiendo de la definicion de la metrica y finalmente desplaza el canal al desplazamiento optimo encontrado en las iteraciones."
   ],
   "cell_type": "markdown",
   "metadata": {}
  },
  {
   "cell_type": "code",
   "execution_count": null,
   "metadata": {},
   "outputs": [],
   "source": [
    "def get_best_shift(ch1, ch2,method,iteraciones):\n",
    "    mse_min=1\n",
    "    cc_max=0\n",
    "    i_min = 0\n",
    "    j_min = 0\n",
    "    i_max = 0\n",
    "    j_max = 0\n",
    "    ch22=ch2   # ch22 es una variable auxiliar que le puede ayudar a realizar las iteraciones\n",
    "    for i in range (-iteraciones,iteraciones):\n",
    "        for j in range (-iteraciones,iteraciones):\n",
    "            \"\"\" Escriba Aca su codigo\"\"\"  \n",
    "            \n",
    "    if (method == 'mse'):\n",
    "        print(f\"i: {} - j: {}, MSE = {''}\")\n",
    "        # ch2 = \"\"\" Escriba Aca su codigo\"\"\"  \n",
    "    elif (method == 'cc'):\n",
    "        print(f\"i: {} - j: {},CC = {}\")\n",
    "        # ch2= \"\"\" Escriba Aca su codigo\"\"\"\n",
    "    return ch2\n"
   ]
  },
  {
   "source": [
    "Complete la funcion get_best_image en donde utiliza la funcion get_best_shift en los canales de una imaen rgb que reciba."
   ],
   "cell_type": "markdown",
   "metadata": {}
  },
  {
   "cell_type": "code",
   "execution_count": null,
   "metadata": {},
   "outputs": [],
   "source": [
    "def get_best_image(rgb_img,method):\n",
    "    #Descomponer la imagen en 3 canales\n",
    "    \"\"\" Escriba Aca su codigo\"\"\"  \n",
    "    rgb=np.dstack((r,g,b)) # Se unen los tres canales luego de haberlos desplazado\n",
    "    return rgb"
   ]
  },
  {
   "source": [
    "Finalmente utilice la funcion get_best_image en la iteracion de las imagenes rgb y visualice el resultado, varie el metodo y el valor de iteraciones.\n",
    "\n",
    "concluya cual metodo considera mejor , y como afecta el numero de iteraciones."
   ],
   "cell_type": "markdown",
   "metadata": {}
  },
  {
   "cell_type": "code",
   "execution_count": null,
   "metadata": {},
   "outputs": [],
   "source": [
    "\n",
    "final_imgs = []\n",
    "method = ''#indique  el metodo\n",
    "iteraciones = 0  # indique el numero de iteraciones\n",
    "for img in rgb_imgs:\n",
    "    final_img = get_best_image(img,method,iteraciones)\n",
    "    final_imgs.append(final_img)\n",
    "visualize(final_imgs)"
   ]
  },
  {
   "cell_type": "code",
   "execution_count": null,
   "metadata": {},
   "outputs": [],
   "source": []
  }
 ]
}